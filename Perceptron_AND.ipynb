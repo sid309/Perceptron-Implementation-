{
  "nbformat": 4,
  "nbformat_minor": 0,
  "metadata": {
    "colab": {
      "name": "Perceptron AND.ipynb",
      "provenance": []
    },
    "kernelspec": {
      "name": "python3",
      "display_name": "Python 3"
    },
    "language_info": {
      "name": "python"
    }
  },
  "cells": [
    {
      "cell_type": "code",
      "metadata": {
        "id": "eOt2I5-Dwq-h"
      },
      "source": [
        "root='/content/drive/MyDrive/Colab Notebooks'"
      ],
      "execution_count": 40,
      "outputs": []
    },
    {
      "cell_type": "code",
      "metadata": {
        "id": "_fnbU4lDyX6s"
      },
      "source": [
        "import os \n",
        "os.chdir(root)"
      ],
      "execution_count": 41,
      "outputs": []
    },
    {
      "cell_type": "code",
      "metadata": {
        "id": "1Vu4gVAKyz1o"
      },
      "source": [
        "assert root==os.getcwd()"
      ],
      "execution_count": 42,
      "outputs": []
    },
    {
      "cell_type": "code",
      "metadata": {
        "id": "cYdGsu0Ey4Ax"
      },
      "source": [
        "import numpy as np\n",
        "import pandas as pd\n",
        "import matplotlib.pyplot as plt\n",
        "from matplotlib.colors import ListedColormap\n",
        "plt.style.use('fivethirtyeight')"
      ],
      "execution_count": 55,
      "outputs": []
    },
    {
      "cell_type": "code",
      "metadata": {
        "id": "e41XpHURzMN4"
      },
      "source": [
        "import joblib #to save model"
      ],
      "execution_count": 56,
      "outputs": []
    },
    {
      "cell_type": "code",
      "metadata": {
        "id": "zoGpfpnDK38V"
      },
      "source": [
        "class Perceptron:\n",
        "  def __init__(self,eta,epochs):\n",
        "    self.eta=eta\n",
        "    self.epochs=epochs\n",
        "    self.weights=np.random.randn(3)*1e-4\n",
        "  def activation_function(self,inputs,weights):\n",
        "    z=np.dot(inputs,weights)\n",
        "    return np.where(z>0,1,0)\n",
        "  def fit(self,X,Y):\n",
        "    self.X=X\n",
        "    self.Y=Y\n",
        "    X_with_bias=np.c_[self.X,-np.ones((len(self.X),1))]\n",
        "    for epoch in range(self.epochs):\n",
        "      print(\"--\"*10)\n",
        "      print(f\"for epoch: {epoch}\")\n",
        "      print(\"--\"*10)\n",
        "      y_hat=self.activation_function(X_with_bias,self.weights)\n",
        "      print(f\"predicted value after forward pass: \\n{y_hat}\")\n",
        "      self.error=self.Y-y_hat\n",
        "      print(f\"error: \\n{self.error}\")\n",
        "      self.weights=self.weights+self.eta*np.dot(X_with_bias.T,self.error)\n",
        "      print(f\"updated weights after epoch:\\n{epoch}/{self.epochs} : \\n{self.weights}\")\n",
        "      print(\"#####\"*10)\n",
        "  def predict(self,X):\n",
        "      X_with_bias=np.c_[X,-np.ones((len(X),1))]\n",
        "      return self.activation_function(X_with_bias,self.weights) \n",
        "\n",
        "  def total_loss(self):\n",
        "      total_loss=np.sum(self.error)\n",
        "      print(f\"total loss: {total_loss}\")\n",
        "      return total_loss"
      ],
      "execution_count": 57,
      "outputs": []
    },
    {
      "cell_type": "code",
      "metadata": {
        "id": "xlh6dx7-NaC0"
      },
      "source": [
        "def prepare_data(df):\n",
        "  X = df.drop(\"y\", axis=1)\n",
        "  y = df[\"y\"]\n",
        "  return X, y"
      ],
      "execution_count": 58,
      "outputs": []
    },
    {
      "cell_type": "code",
      "metadata": {
        "id": "8-_K46SeNdHc"
      },
      "source": [
        "AND = {\n",
        "    \"x1\": [0,0,1,1],\n",
        "    \"x2\": [0,1,0,1],\n",
        "    \"y\": [0,0,0,1],\n",
        "}\n",
        "\n",
        "df = pd.DataFrame(AND)"
      ],
      "execution_count": 59,
      "outputs": []
    },
    {
      "cell_type": "code",
      "metadata": {
        "colab": {
          "base_uri": "https://localhost:8080/"
        },
        "id": "lDSCTzwUNfv_",
        "outputId": "c2704437-1ccc-4699-e13b-4f026c62eb0b"
      },
      "source": [
        "X,y = prepare_data(df)\n",
        "ETA = 0.3\n",
        "EPOCHS = 10\n",
        "model = Perceptron(eta=ETA, epochs=EPOCHS)\n",
        "model.fit(X, y)\n",
        "_ = model.total_loss()"
      ],
      "execution_count": 60,
      "outputs": [
        {
          "output_type": "stream",
          "name": "stdout",
          "text": [
            "--------------------\n",
            "for epoch: 0\n",
            "--------------------\n",
            "predicted value after forward pass: \n",
            "[0 1 1 1]\n",
            "error: \n",
            "0    0\n",
            "1   -1\n",
            "2   -1\n",
            "3    0\n",
            "Name: y, dtype: int64\n",
            "updated weights after epoch:\n",
            "0/10 : \n",
            "[-0.29985194 -0.29993376  0.60003645]\n",
            "##################################################\n",
            "--------------------\n",
            "for epoch: 1\n",
            "--------------------\n",
            "predicted value after forward pass: \n",
            "[0 0 0 0]\n",
            "error: \n",
            "0    0\n",
            "1    0\n",
            "2    0\n",
            "3    1\n",
            "Name: y, dtype: int64\n",
            "updated weights after epoch:\n",
            "1/10 : \n",
            "[1.48056541e-04 6.62419405e-05 3.00036453e-01]\n",
            "##################################################\n",
            "--------------------\n",
            "for epoch: 2\n",
            "--------------------\n",
            "predicted value after forward pass: \n",
            "[0 0 0 0]\n",
            "error: \n",
            "0    0\n",
            "1    0\n",
            "2    0\n",
            "3    1\n",
            "Name: y, dtype: int64\n",
            "updated weights after epoch:\n",
            "2/10 : \n",
            "[3.00148057e-01 3.00066242e-01 3.64531833e-05]\n",
            "##################################################\n",
            "--------------------\n",
            "for epoch: 3\n",
            "--------------------\n",
            "predicted value after forward pass: \n",
            "[0 1 1 1]\n",
            "error: \n",
            "0    0\n",
            "1   -1\n",
            "2   -1\n",
            "3    0\n",
            "Name: y, dtype: int64\n",
            "updated weights after epoch:\n",
            "3/10 : \n",
            "[1.48056541e-04 6.62419405e-05 6.00036453e-01]\n",
            "##################################################\n",
            "--------------------\n",
            "for epoch: 4\n",
            "--------------------\n",
            "predicted value after forward pass: \n",
            "[0 0 0 0]\n",
            "error: \n",
            "0    0\n",
            "1    0\n",
            "2    0\n",
            "3    1\n",
            "Name: y, dtype: int64\n",
            "updated weights after epoch:\n",
            "4/10 : \n",
            "[0.30014806 0.30006624 0.30003645]\n",
            "##################################################\n",
            "--------------------\n",
            "for epoch: 5\n",
            "--------------------\n",
            "predicted value after forward pass: \n",
            "[0 1 1 1]\n",
            "error: \n",
            "0    0\n",
            "1   -1\n",
            "2   -1\n",
            "3    0\n",
            "Name: y, dtype: int64\n",
            "updated weights after epoch:\n",
            "5/10 : \n",
            "[1.48056541e-04 6.62419405e-05 9.00036453e-01]\n",
            "##################################################\n",
            "--------------------\n",
            "for epoch: 6\n",
            "--------------------\n",
            "predicted value after forward pass: \n",
            "[0 0 0 0]\n",
            "error: \n",
            "0    0\n",
            "1    0\n",
            "2    0\n",
            "3    1\n",
            "Name: y, dtype: int64\n",
            "updated weights after epoch:\n",
            "6/10 : \n",
            "[0.30014806 0.30006624 0.60003645]\n",
            "##################################################\n",
            "--------------------\n",
            "for epoch: 7\n",
            "--------------------\n",
            "predicted value after forward pass: \n",
            "[0 0 0 1]\n",
            "error: \n",
            "0    0\n",
            "1    0\n",
            "2    0\n",
            "3    0\n",
            "Name: y, dtype: int64\n",
            "updated weights after epoch:\n",
            "7/10 : \n",
            "[0.30014806 0.30006624 0.60003645]\n",
            "##################################################\n",
            "--------------------\n",
            "for epoch: 8\n",
            "--------------------\n",
            "predicted value after forward pass: \n",
            "[0 0 0 1]\n",
            "error: \n",
            "0    0\n",
            "1    0\n",
            "2    0\n",
            "3    0\n",
            "Name: y, dtype: int64\n",
            "updated weights after epoch:\n",
            "8/10 : \n",
            "[0.30014806 0.30006624 0.60003645]\n",
            "##################################################\n",
            "--------------------\n",
            "for epoch: 9\n",
            "--------------------\n",
            "predicted value after forward pass: \n",
            "[0 0 0 1]\n",
            "error: \n",
            "0    0\n",
            "1    0\n",
            "2    0\n",
            "3    0\n",
            "Name: y, dtype: int64\n",
            "updated weights after epoch:\n",
            "9/10 : \n",
            "[0.30014806 0.30006624 0.60003645]\n",
            "##################################################\n",
            "total loss: 0\n"
          ]
        }
      ]
    },
    {
      "cell_type": "code",
      "metadata": {
        "colab": {
          "base_uri": "https://localhost:8080/"
        },
        "id": "K4LBjjmWNj_x",
        "outputId": "3c4d7673-7dd0-46b5-8279-28942a583b61"
      },
      "source": [
        "inputs = np.array([[1,1], [0,1]])\n",
        "model.predict(inputs)"
      ],
      "execution_count": 61,
      "outputs": [
        {
          "output_type": "execute_result",
          "data": {
            "text/plain": [
              "array([1, 0])"
            ]
          },
          "metadata": {},
          "execution_count": 61
        }
      ]
    },
    {
      "cell_type": "code",
      "metadata": {
        "id": "12O0-HUQOL4l"
      },
      "source": [
        "def save_model(model,filename):\n",
        "  model_dir='models'\n",
        "  os.makedirs(model_dir,exist_ok=True)\n",
        "  filepath=os.path.join(model_dir,filename)\n",
        "  joblib.dump(model,filepath)\n"
      ],
      "execution_count": 62,
      "outputs": []
    },
    {
      "cell_type": "code",
      "metadata": {
        "id": "UhgdcY1ASC4x"
      },
      "source": [
        "save_model(model, \"and.model\")"
      ],
      "execution_count": 63,
      "outputs": []
    },
    {
      "cell_type": "code",
      "metadata": {
        "colab": {
          "base_uri": "https://localhost:8080/"
        },
        "id": "F94wqOL9SEOZ",
        "outputId": "0d97db62-8bb0-4800-f69f-d4a73a42f1c0"
      },
      "source": [
        "loaded_model = joblib.load(\"models/and.model\")\n",
        "loaded_model.predict(inputs)"
      ],
      "execution_count": 64,
      "outputs": [
        {
          "output_type": "execute_result",
          "data": {
            "text/plain": [
              "array([1, 0])"
            ]
          },
          "metadata": {},
          "execution_count": 64
        }
      ]
    },
    {
      "cell_type": "code",
      "metadata": {
        "id": "44I9HI1TSGPG"
      },
      "source": [
        "def save_plot(df,file_name,model):\n",
        "  def _create_base_plot(df):\n",
        "    df.plot(kind=\"scatter\", x=\"x1\", y=\"x2\", c=\"y\", s=100, cmap=\"winter\")\n",
        "    plt.axhline(y=0, color=\"black\", linestyle=\"--\", linewidth=1)\n",
        "    plt.axvline(x=0, color=\"black\", linestyle=\"--\", linewidth=1)\n",
        "    figure = plt.gcf() # get current figure\n",
        "    figure.set_size_inches(10, 8)\n",
        "  def _plot_decision_regions(X,Y,model,resolution=0.2):\n",
        "    colors = (\"red\", \"blue\", \"lightgreen\", \"gray\", \"cyan\")\n",
        "    cmap = ListedColormap(colors[: len(np.unique(y))])\n",
        "\n",
        "    X = X.values # as a array\n",
        "    x1 = X[:, 0] \n",
        "    x2 = X[:, 1]\n",
        "    x1_min, x1_max = x1.min() -1 , x1.max() + 1\n",
        "    x2_min, x2_max = x2.min() -1 , x2.max() + 1  \n",
        "\n",
        "    xx1, xx2 = np.meshgrid(np.arange(x1_min, x1_max, resolution), \n",
        "                           np.arange(x2_min, x2_max, resolution))\n",
        "    Z = model.predict(np.array([xx1.ravel(), xx2.ravel()]).T)\n",
        "    Z = Z.reshape(xx1.shape)\n",
        "    plt.contourf(xx1, xx2, Z, alpha=0.2, cmap=cmap)\n",
        "    plt.xlim(xx1.min(), xx1.max())\n",
        "    plt.ylim(xx2.min(), xx2.max())\n",
        "\n",
        "    plt.plot()\n",
        "\n",
        "  X, y = prepare_data(df)\n",
        "\n",
        "  _create_base_plot(df)\n",
        "  _plot_decision_regions(X, y, model)\n",
        "  plot_dir = \"plots\"\n",
        "  os.makedirs(plot_dir, exist_ok=True) # ONLY CREATE IF MODEL_DIR DOESN\"T EXISTS\n",
        "  plotPath = os.path.join(plot_dir, file_name) # model/filename\n",
        "  plt.savefig(plotPath)"
      ],
      "execution_count": 71,
      "outputs": []
    },
    {
      "cell_type": "code",
      "metadata": {
        "colab": {
          "base_uri": "https://localhost:8080/",
          "height": 542
        },
        "id": "YhlOs_G0SlFo",
        "outputId": "1a966344-cbab-41bb-8f33-f28182e4664e"
      },
      "source": [
        "save_plot(df, \"and.png\",model)"
      ],
      "execution_count": 72,
      "outputs": [
        {
          "output_type": "display_data",
          "data": {
            "image/png": "[encoded data removed]",
            "text/plain": [
              "<Figure size 720x576 with 2 Axes>"
            ]
          },
          "metadata": {}
        }
      ]
    },
    {
      "cell_type": "code",
      "metadata": {
        "id": "cyTATAILSx7R"
      },
      "source": [
        ""
      ],
      "execution_count": 70,
      "outputs": []
    }
  ]
}